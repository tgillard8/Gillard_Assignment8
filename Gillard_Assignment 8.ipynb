{
 "cells": [
  {
   "cell_type": "code",
   "execution_count": 1,
   "id": "25c1ead4",
   "metadata": {},
   "outputs": [
    {
     "name": "stdout",
     "output_type": "stream",
     "text": [
      "enter input string: n<V}wePdAA`9kE2?\n",
      "-------------------------\n",
      "numeric: 2\n",
      "lower case: 5\n",
      "upper case: 5\n",
      "symbol: 4\n"
     ]
    }
   ],
   "source": [
    "def thestring():\n",
    "    #string input\n",
    "    s = input(\"enter input string: \")\n",
    "    \n",
    "    #call analyze input function\n",
    "    analyze(s)\n",
    "\n",
    "def analyze(s):\n",
    "    #create counters for each type of char\n",
    "    numeric = 0\n",
    "    lowercase = 0\n",
    "    uppercase = 0\n",
    "    symbol = 0\n",
    "    \n",
    "    #loop for each string to update counter dependent on character input i.e, numeric, lowercase, etc.\n",
    "    for c in s:\n",
    "        if c.isdigit():\n",
    "            numeric += 1\n",
    "        elif c.islower():\n",
    "            lowercase += 1\n",
    "        elif c.isupper():\n",
    "            uppercase += 1\n",
    "        elif not c.isspace():\n",
    "            symbol += 1\n",
    "    \n",
    "    #print divider to separate from input\n",
    "    print(f\"{'-'*25}\")\n",
    "    #print export\n",
    "    print(f\"numeric: {numeric}\")\n",
    "    print(f\"lower case: {lowercase}\")\n",
    "    print(f\"upper case: {uppercase}\")\n",
    "    print(f\"symbol: {symbol}\")\n",
    "\n",
    "#run\n",
    "thestring()"
   ]
  },
  {
   "cell_type": "code",
   "execution_count": null,
   "id": "3ba9d218",
   "metadata": {},
   "outputs": [],
   "source": []
  }
 ],
 "metadata": {
  "kernelspec": {
   "display_name": "Python 3 (ipykernel)",
   "language": "python",
   "name": "python3"
  },
  "language_info": {
   "codemirror_mode": {
    "name": "ipython",
    "version": 3
   },
   "file_extension": ".py",
   "mimetype": "text/x-python",
   "name": "python",
   "nbconvert_exporter": "python",
   "pygments_lexer": "ipython3",
   "version": "3.11.5"
  }
 },
 "nbformat": 4,
 "nbformat_minor": 5
}
